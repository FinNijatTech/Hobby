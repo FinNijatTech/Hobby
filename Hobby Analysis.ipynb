{
  "nbformat": 4,
  "nbformat_minor": 0,
  "metadata": {
    "colab": {
      "private_outputs": true,
      "provenance": []
    },
    "kernelspec": {
      "name": "python3",
      "display_name": "Python 3"
    },
    "language_info": {
      "name": "python"
    }
  },
  "cells": [
    {
      "cell_type": "code",
      "source": [
        "import requests\n",
        "import pandas as pd\n",
        "\n",
        "def get_all_crypto_data(vs_currency='usd'):\n",
        "    url = \"https://api.coingecko.com/api/v3/coins/markets\"\n",
        "    params = {\n",
        "        'vs_currency': vs_currency,\n",
        "        'order': 'market_cap_desc',  # Optional: You can change the order as per your preference\n",
        "        'per_page': 100,  # Optional: Number of results per page. Default is 100.\n",
        "        'page': 1,  # Optional: Page of results to retrieve.\n",
        "        'sparkline': False,  # Optional: Includes sparkline 7 days data (true/false).\n",
        "        'price_change_percentage': '1h,24h,7d'  # Optional: Include price change percentage for specified time periods.\n",
        "    }\n",
        "    response = requests.get(url, params=params)\n",
        "    data = response.json()\n",
        "    return data\n",
        "\n",
        "# Get crypto data\n",
        "all_crypto_data = get_all_crypto_data()\n",
        "\n",
        "# Create DataFrame\n",
        "crypto_df = pd.DataFrame(all_crypto_data)\n",
        "\n",
        "# Filter cryptocurrencies with price under 1 USD and circulating supply less than 1 million\n",
        "filtered_crypto_df = crypto_df[(crypto_df['current_price'] < 1) & (crypto_df['circulating_supply'] < 1000000)]\n",
        "\n",
        "# Calculate ratio of supply to price\n",
        "filtered_crypto_df['supply_to_price_ratio'] = filtered_crypto_df['circulating_supply'] / filtered_crypto_df['current_price']\n",
        "\n",
        "# Selecting necessary columns\n",
        "filtered_crypto_df = filtered_crypto_df[['name', 'symbol', 'current_price', 'circulating_supply', 'supply_to_price_ratio']]\n",
        "\n",
        "# Sort DataFrame by supply to price ratio in ascending order\n",
        "filtered_sorted_crypto_df = filtered_crypto_df.sort_values(by='supply_to_price_ratio', ascending=True)\n",
        "\n",
        "# Display DataFrame\n",
        "print(filtered_sorted_crypto_df)\n"
      ],
      "metadata": {
        "id": "a0d7jl0S_mRm"
      },
      "execution_count": null,
      "outputs": []
    },
    {
      "cell_type": "code",
      "source": [
        "all_crypto_data"
      ],
      "metadata": {
        "id": "i2_7oTKA_m_Z"
      },
      "execution_count": null,
      "outputs": []
    }
  ]
}